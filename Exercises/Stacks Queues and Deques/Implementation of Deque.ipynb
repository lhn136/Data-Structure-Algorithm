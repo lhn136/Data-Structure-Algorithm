{
 "cells": [
  {
   "cell_type": "markdown",
   "metadata": {},
   "source": [
    "# Implementation of Deque\n",
    "\n",
    "### Methods and Attributes\n",
    "* Deque() creates a new deque that is empty. It needs no parameters and returns an empty deque.\n",
    "addFront(item) adds a new item to the front of the deque. It needs the item and returns nothing.\n",
    "* addRear(item) adds a new item to the rear of the deque. It needs the item and returns nothing.\n",
    "* removeFront() removes the front item from the deque. It needs no parameters and returns the item. The deque is modified.\n",
    "* removeRear() removes the rear item from the deque. It needs no parameters and returns the item. The deque is modified.\n",
    "* isEmpty() tests to see whether the deque is empty. It needs no parameters and returns a boolean value.\n",
    "* size() returns the number of items in the deque. It needs no parameters and returns an integer."
   ]
  },
  {
   "cell_type": "code",
   "execution_count": 70,
   "metadata": {},
   "outputs": [],
   "source": [
    "class Deque(object):\n",
    "    def __init__(self):\n",
    "        self.items = []\n",
    "    def addFront(self,item):\n",
    "        self.items.insert(len(self.items),item) # Equivalent to obj.append(x)\n",
    "    def addRear(self,item):\n",
    "        self.items.insert(0,item)\n",
    "    def removeFront(self):\n",
    "        return self.items.pop()\n",
    "    def removeRear(self):\n",
    "        return self.items.pop(0)\n",
    "    def isEmpty(self):\n",
    "        return self.items == []\n",
    "    def size(self):\n",
    "        return len(self.items)\n",
    "    def repl(self):\n",
    "        print([i for i in self.items])"
   ]
  },
  {
   "cell_type": "code",
   "execution_count": 71,
   "metadata": {},
   "outputs": [
    {
     "name": "stdout",
     "output_type": "stream",
     "text": [
      "True\n",
      "[1, 1]\n",
      "[2, 2, 1, 1]\n",
      "False\n",
      "[2, 2, 1]\n",
      "[2, 1]\n"
     ]
    }
   ],
   "source": [
    "a = Deque()\n",
    "print(a.isEmpty())\n",
    "a.addFront(1)\n",
    "a.addFront(1)\n",
    "a.repl()\n",
    "a.addRear(2)\n",
    "a.addRear(2)\n",
    "a.repl()\n",
    "a.size()\n",
    "\n",
    "print(a.isEmpty())\n",
    "a.removeFront()\n",
    "a.repl()\n",
    "a.removeRear()\n",
    "a.repl()"
   ]
  },
  {
   "cell_type": "code",
   "execution_count": 103,
   "metadata": {},
   "outputs": [
    {
     "name": "stdout",
     "output_type": "stream",
     "text": [
      "[(1487799425, 8), (1487800378, 10), (1487801478, 0), (1487901013, -1), (1487901211, 0)]\n"
     ]
    }
   ],
   "source": [
    "\n",
    "def find_busiest_period(data):\n",
    "    timeDict = {}\n",
    "    for time,visitors,entered in data: \n",
    "        if entered == 0:\n",
    "            sign = -1\n",
    "        else:\n",
    "            sign = 1\n",
    "            \n",
    "        if time not in timeDict: \n",
    "            timeDict[time] = visitors*sign\n",
    "        else\n",
    "            timeDict[time] += visitors*sign\n",
    "    print(sorted(timeDict.items(), key = lambda k:k[0]))\n",
    "        \n",
    "data = [ [1487799425, 14, 1], \n",
    "           [1487799425, 4,  0],\n",
    "           [1487799425, 2,  0],\n",
    "           [1487800378, 10, 1],\n",
    "           [1487801478, 18, 0],\n",
    "           [1487801478, 18, 1],\n",
    "           [1487901013, 1,  0],\n",
    "           [1487901211, 7,  1],\n",
    "           [1487901211, 7,  0] ]\n",
    "find_busiest_period(data)\n",
    "\n"
   ]
  },
  {
   "cell_type": "code",
   "execution_count": null,
   "metadata": {},
   "outputs": [],
   "source": [
    "#     currentCustomers = 0 \n",
    "#     maxTime = 0 \n",
    "#     maxCustomers = 0\n",
    "#     currdate = (time.ctime(data[0][0]).split()[2])\n",
    "    \n",
    "#     for _time,visitors,entered in data:\n",
    "#         _timeDate = (time.ctime(_time).split()[2])\n",
    "#         print(maxCustomers, currentCustomers)\n",
    "#         if currdate == _timeDate:\n",
    "#             if entered == 1: \n",
    "#                 currentCustomers += visitors \n",
    "#             elif maxCustomers < currentCustomers: \n",
    "#                 maxTime = _time \n",
    "#                 maxCustomers = currentCustomers \n",
    "#                 print(\"MAX: \"+str(maxTime)+\" visitors: \"+str(visitors)+\" max cust: \"+str(maxCustomers), currentCustomers, maxCustomers) \n",
    "#             else: currentCustomers -= visitors\n",
    "#         else:\n",
    "#             currentCustomers = 0 \n",
    "#             currdate = _timeDate\n",
    "#     print(maxTime)\n",
    "    \n",
    "# data = [ [1487799425, 14, 1], \n",
    "#            [1487799425, 4,  0],\n",
    "#            [1487799425, 2,  0],\n",
    "#            [1487800378, 10, 1],\n",
    "#            [1487801478, 18, 0],\n",
    "#            [1487801478, 18, 1],\n",
    "#            [1487901013, 1,  0],\n",
    "#            [1487901211, 7,  1],\n",
    "#            [1487901211, 7,  0] ]\n",
    "# find_busiest_period(data)"
   ]
  },
  {
   "cell_type": "code",
   "execution_count": 96,
   "metadata": {},
   "outputs": [
    {
     "name": "stdout",
     "output_type": "stream",
     "text": [
      "14.0\n",
      "-4.0\n",
      "-2.0\n",
      "10.0\n",
      "-18.0\n",
      "18.0\n",
      "-1.0\n",
      "7.0\n",
      "-7.0\n",
      "1487800378\n"
     ]
    }
   ],
   "source": [
    "import collections,math\n",
    "def busiestTime(inAndOuts):\n",
    "        cntInAndOuts = len(inAndOuts)\n",
    "        collapsed = collections.defaultdict(lambda:0)\n",
    "        greatestTime = -math.inf\n",
    "        greatestCnt = -math.inf\n",
    "        potentialTime = 0.0\n",
    "        potentialCnt = 0.0\n",
    "        for io in inAndOuts:\n",
    "                if io[2] == 1:\n",
    "                        sign = 1.0\n",
    "                else:\n",
    "                        sign = -1.0\n",
    "                result = collapsed[io[0]] + (sign * io[1])\n",
    "                print(sign * io[1])\n",
    "                collapsed[io[0]] = result\n",
    "                if result > greatestCnt:\n",
    "                        if io[0] == potentialTime:\n",
    "                                potentialTime = io[0]\n",
    "                                potentialCnt = result\n",
    "                        else:\n",
    "                                greatestTime = potentialTime\n",
    "                                greatestCnt = potentialCnt\n",
    "                                potentialTime = io[0]\n",
    "                                potentialCnt = result\n",
    "        greatestTime = potentialTime\n",
    "        greatestCnt = potentialCnt\n",
    "\n",
    "        print(greatestTime)\n",
    "\n",
    "busiestTime([[1487799425, 14,1], [1487799425, 4, 0], [1487799425, 2, 0], [1487800378, 10, 1], [1487801478, 18, 0], [1487801478, 18, 1], [1487901013, 1, 0], [1487901211, 7, 1], [1487901211, 7, 0]])"
   ]
  },
  {
   "cell_type": "code",
   "execution_count": 73,
   "metadata": {},
   "outputs": [],
   "source": [
    "import datetime\n",
    "# datetime.datetime.utcfromtimestamp(1487799425)"
   ]
  },
  {
   "cell_type": "code",
   "execution_count": 74,
   "metadata": {},
   "outputs": [
    {
     "name": "stdout",
     "output_type": "stream",
     "text": [
      "1487799425\n",
      "22\n",
      "1487799425\n",
      "22\n",
      "1487799425\n",
      "22\n",
      "1487800378\n",
      "22\n",
      "1487801478\n",
      "22\n",
      "1487801478\n",
      "22\n",
      "1487901013\n",
      "23\n",
      "1487901211\n",
      "23\n",
      "1487901211\n",
      "23\n"
     ]
    }
   ],
   "source": [
    "\n",
    "for i in data:\n",
    "    print(str(i[0]))\n",
    "    print(time.ctime(i[0]).split()[2])"
   ]
  },
  {
   "cell_type": "code",
   "execution_count": null,
   "metadata": {},
   "outputs": [],
   "source": []
  }
 ],
 "metadata": {
  "kernelspec": {
   "display_name": "Python 3",
   "language": "python",
   "name": "python3"
  },
  "language_info": {
   "codemirror_mode": {
    "name": "ipython",
    "version": 3
   },
   "file_extension": ".py",
   "mimetype": "text/x-python",
   "name": "python",
   "nbconvert_exporter": "python",
   "pygments_lexer": "ipython3",
   "version": "3.7.2"
  }
 },
 "nbformat": 4,
 "nbformat_minor": 2
}
